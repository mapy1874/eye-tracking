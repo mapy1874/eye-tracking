{
 "cells": [
  {
   "cell_type": "code",
   "execution_count": 1,
   "metadata": {},
   "outputs": [],
   "source": [
    "# To add a new cell, type '# %%'\n",
    "# To add a new markdown cell, type '# %% [markdown]'\n",
    "# %%\n",
    "from cnn_utils import *\n",
    "from sklearn.preprocessing import LabelEncoder,OneHotEncoder\n",
    "import matplotlib.pyplot as plt\n",
    "from tensorflow.keras.optimizers import SGD\n",
    "from tensorflow.keras.applications import VGG16\n",
    "from tensorflow.keras.applications.densenet import DenseNet201\n",
    "from tensorflow.keras.layers import AveragePooling2D\n",
    "from tensorflow.keras.layers import Dropout\n",
    "from tensorflow.keras.layers import Flatten\n",
    "from tensorflow.keras.layers import Dense\n",
    "from tensorflow.keras.layers import Input\n",
    "from tensorflow.keras.models import Model\n",
    "from tensorflow.keras.optimizers import Adam\n",
    "from tensorflow.keras.utils import to_categorical\n"
   ]
  },
  {
   "cell_type": "markdown",
   "metadata": {},
   "source": [
    "## Data Preparation\n"
   ]
  },
  {
   "cell_type": "code",
   "execution_count": 2,
   "metadata": {},
   "outputs": [
    {
     "output_type": "execute_result",
     "data": {
      "text/plain": "                                            eyeImage  \\\n0  [[[0.49019607843137253, 0.4627450980392157, 0....   \n1  [[[0.19607843137254902, 0.1607843137254902, 0....   \n2  [[[0.2196078431372549, 0.19215686274509805, 0....   \n3  [[[0.2196078431372549, 0.17647058823529413, 0....   \n4  [[[0.5882352941176471, 0.5647058823529412, 0.6...   \n\n                                             leftEye  \\\n0  [-0.06916704732662149, 0.19730078279591035, -0...   \n1  [-0.17658285534307594, 0.18033866676032262, -0...   \n2  [-0.17382043840055927, 0.17981051564675177, -0...   \n3  [-0.15968611544730582, 0.18524077990937093, -0...   \n4  [-0.07825260742468576, 0.16963032408957468, -0...   \n\n                                            rightEye  \\\n0  [0.17425771877389162, 0.21639015714266296, 0.2...   \n1  [0.06629549190581052, 0.1988126179958256, 0.10...   \n2  [0.06089991895895852, 0.18628686237123016, 0.0...   \n3  [0.08123800929222913, 0.1904861112443328, 0.11...   \n4  [0.1666792245722788, 0.19617187288354976, 0.20...   \n\n                                             y  \n0  [-0.30000000000000004, -0.3019517795637199]  \n1   [0.30000000000000004, -0.9012629161882894]  \n2    [0.8999999999999999, -0.9012629161882894]  \n3   [-0.30000000000000004, 0.8989667049368542]  \n4   [-0.30000000000000004, 0.2996555683122848]  ",
      "text/html": "<div>\n<style scoped>\n    .dataframe tbody tr th:only-of-type {\n        vertical-align: middle;\n    }\n\n    .dataframe tbody tr th {\n        vertical-align: top;\n    }\n\n    .dataframe thead th {\n        text-align: right;\n    }\n</style>\n<table border=\"1\" class=\"dataframe\">\n  <thead>\n    <tr style=\"text-align: right;\">\n      <th></th>\n      <th>eyeImage</th>\n      <th>leftEye</th>\n      <th>rightEye</th>\n      <th>y</th>\n    </tr>\n  </thead>\n  <tbody>\n    <tr>\n      <th>0</th>\n      <td>[[[0.49019607843137253, 0.4627450980392157, 0....</td>\n      <td>[-0.06916704732662149, 0.19730078279591035, -0...</td>\n      <td>[0.17425771877389162, 0.21639015714266296, 0.2...</td>\n      <td>[-0.30000000000000004, -0.3019517795637199]</td>\n    </tr>\n    <tr>\n      <th>1</th>\n      <td>[[[0.19607843137254902, 0.1607843137254902, 0....</td>\n      <td>[-0.17658285534307594, 0.18033866676032262, -0...</td>\n      <td>[0.06629549190581052, 0.1988126179958256, 0.10...</td>\n      <td>[0.30000000000000004, -0.9012629161882894]</td>\n    </tr>\n    <tr>\n      <th>2</th>\n      <td>[[[0.2196078431372549, 0.19215686274509805, 0....</td>\n      <td>[-0.17382043840055927, 0.17981051564675177, -0...</td>\n      <td>[0.06089991895895852, 0.18628686237123016, 0.0...</td>\n      <td>[0.8999999999999999, -0.9012629161882894]</td>\n    </tr>\n    <tr>\n      <th>3</th>\n      <td>[[[0.2196078431372549, 0.17647058823529413, 0....</td>\n      <td>[-0.15968611544730582, 0.18524077990937093, -0...</td>\n      <td>[0.08123800929222913, 0.1904861112443328, 0.11...</td>\n      <td>[-0.30000000000000004, 0.8989667049368542]</td>\n    </tr>\n    <tr>\n      <th>4</th>\n      <td>[[[0.5882352941176471, 0.5647058823529412, 0.6...</td>\n      <td>[-0.07825260742468576, 0.16963032408957468, -0...</td>\n      <td>[0.1666792245722788, 0.19617187288354976, 0.20...</td>\n      <td>[-0.30000000000000004, 0.2996555683122848]</td>\n    </tr>\n  </tbody>\n</table>\n</div>"
     },
     "metadata": {},
     "execution_count": 2
    }
   ],
   "source": [
    "df = create_dataframe('/../raw_data/dataset_062920.json')\n",
    "df.head()\n"
   ]
  },
  {
   "cell_type": "code",
   "execution_count": null,
   "metadata": {},
   "outputs": [],
   "source": [
    "len(df)"
   ]
  },
  {
   "cell_type": "code",
   "execution_count": null,
   "metadata": {},
   "outputs": [],
   "source": [
    "# randomly select training examples\n",
    "x_train, x_validation, y_train, y_validation = create_train_validation(df)\n",
    "\n",
    "# generate binary y labels\n",
    "y_train_binary = create_binary_labels(y_train)\n",
    "y_validation_binary = create_binary_labels(y_validation) # generate binary y labels\n",
    "y_train_binary = create_binary_labels(y_train)\n",
    "y_validation_binary = create_binary_labels(y_validation)\n",
    "\n"
   ]
  },
  {
   "cell_type": "code",
   "execution_count": null,
   "metadata": {},
   "outputs": [],
   "source": [
    "# visualize some data\n",
    "plot_eyeImages(x_train,y_train_binary)"
   ]
  },
  {
   "cell_type": "code",
   "execution_count": null,
   "metadata": {},
   "outputs": [],
   "source": [
    "# prepare data for feeding in CNN\n",
    "eyeImage_train, leftEye_train, rightEye_train, binary_train = create_tf_data(x_train, y_train_binary)\n",
    "eyeImage_test, leftEye_test, rightEye_test, binary_test = create_tf_data(x_validation, y_validation_binary)\n",
    "\n",
    "\n",
    "# encoding the data\n",
    "binary_encoder = LabelEncoder()\n",
    "binary_encoder.fit(binary_train)\n",
    "binary_train = binary_encoder.transform(binary_train)\n",
    "binary_test = binary_encoder.transform(binary_test)\n",
    "\n",
    "# one-hot encoding the data\n",
    "binary_train = to_categorical(binary_train)\n",
    "binary_test = to_categorical(binary_test)\n"
   ]
  },
  {
   "cell_type": "markdown",
   "metadata": {},
   "source": [
    "## ImageNet V2 Transfer Learning"
   ]
  },
  {
   "cell_type": "code",
   "execution_count": null,
   "metadata": {},
   "outputs": [],
   "source": []
  },
  {
   "cell_type": "code",
   "execution_count": null,
   "metadata": {},
   "outputs": [],
   "source": []
  }
 ],
 "metadata": {
  "language_info": {
   "codemirror_mode": {
    "name": "ipython",
    "version": 3
   },
   "file_extension": ".py",
   "mimetype": "text/x-python",
   "name": "python",
   "nbconvert_exporter": "python",
   "pygments_lexer": "ipython3",
   "version": "3.7.6-final"
  },
  "orig_nbformat": 2,
  "kernelspec": {
   "name": "python3",
   "display_name": "Python 3"
  }
 },
 "nbformat": 4,
 "nbformat_minor": 2
}