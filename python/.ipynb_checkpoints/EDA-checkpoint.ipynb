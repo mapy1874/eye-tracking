{
 "cells": [
  {
   "cell_type": "code",
   "execution_count": 1,
   "metadata": {},
   "outputs": [],
   "source": [
    "# change the current dir so the sys know the .py modules\n",
    "import os \n",
    "os.chdir('/home/jupyter/eye-tracking/python')"
   ]
  },
  {
   "cell_type": "code",
   "execution_count": 14,
   "metadata": {},
   "outputs": [],
   "source": [
    "import json\n",
    "import ijson\n",
    "import base64\n",
    "import cv2\n",
    "import matplotlib.pyplot as plt\n",
    "import pandas as pd\n",
    "import numpy as np\n",
    "from cnn_utils import *\n",
    "import tensorflow as tf\n",
    "from tensorflow.keras.models import Sequential\n",
    "from tensorflow.keras.layers import Dense, Conv2D, Flatten, Dropout, MaxPooling2D\n",
    "from tensorflow.keras.preprocessing.image import ImageDataGenerator"
   ]
  },
  {
   "cell_type": "code",
   "execution_count": 3,
   "metadata": {},
   "outputs": [
    {
     "data": {
      "text/html": [
       "<div>\n",
       "<style scoped>\n",
       "    .dataframe tbody tr th:only-of-type {\n",
       "        vertical-align: middle;\n",
       "    }\n",
       "\n",
       "    .dataframe tbody tr th {\n",
       "        vertical-align: top;\n",
       "    }\n",
       "\n",
       "    .dataframe thead th {\n",
       "        text-align: right;\n",
       "    }\n",
       "</style>\n",
       "<table border=\"1\" class=\"dataframe\">\n",
       "  <thead>\n",
       "    <tr style=\"text-align: right;\">\n",
       "      <th></th>\n",
       "      <th>eyeImage</th>\n",
       "      <th>leftEye</th>\n",
       "      <th>rightEye</th>\n",
       "    </tr>\n",
       "  </thead>\n",
       "  <tbody>\n",
       "    <tr>\n",
       "      <th>0</th>\n",
       "      <td>[[[32, 52, 86], [88, 112, 155], [89, 130, 190]...</td>\n",
       "      <td>[[-0.04106040810056333, -0.2661677002711552], ...</td>\n",
       "      <td>[[0.20645009407383275, -0.25466045058369857], ...</td>\n",
       "    </tr>\n",
       "    <tr>\n",
       "      <th>1</th>\n",
       "      <td>[[[91, 114, 156], [92, 128, 185], [98, 136, 19...</td>\n",
       "      <td>[[-0.07226874514758119, -0.21267132333102778],...</td>\n",
       "      <td>[[0.1791002113662543, -0.1944043145408635], [0...</td>\n",
       "    </tr>\n",
       "    <tr>\n",
       "      <th>2</th>\n",
       "      <td>[[[53, 72, 106], [99, 136, 192], [97, 140, 202...</td>\n",
       "      <td>[[-0.05113651627800753, -0.2674861957086695], ...</td>\n",
       "      <td>[[0.21379589102346563, -0.24411637606250924], ...</td>\n",
       "    </tr>\n",
       "    <tr>\n",
       "      <th>3</th>\n",
       "      <td>[[[53, 65, 96], [105, 134, 180], [97, 142, 203...</td>\n",
       "      <td>[[-0.036367646064764614, -0.23934754171103256]...</td>\n",
       "      <td>[[0.2199010682250715, -0.21605467749028295], [...</td>\n",
       "    </tr>\n",
       "    <tr>\n",
       "      <th>4</th>\n",
       "      <td>[[[49, 64, 96], [91, 115, 157], [88, 127, 185]...</td>\n",
       "      <td>[[-0.0797204637382114, -0.27350516572426786], ...</td>\n",
       "      <td>[[0.18218327924672018, -0.2482642153566159], [...</td>\n",
       "    </tr>\n",
       "  </tbody>\n",
       "</table>\n",
       "</div>"
      ],
      "text/plain": [
       "                                            eyeImage  \\\n",
       "0  [[[32, 52, 86], [88, 112, 155], [89, 130, 190]...   \n",
       "1  [[[91, 114, 156], [92, 128, 185], [98, 136, 19...   \n",
       "2  [[[53, 72, 106], [99, 136, 192], [97, 140, 202...   \n",
       "3  [[[53, 65, 96], [105, 134, 180], [97, 142, 203...   \n",
       "4  [[[49, 64, 96], [91, 115, 157], [88, 127, 185]...   \n",
       "\n",
       "                                             leftEye  \\\n",
       "0  [[-0.04106040810056333, -0.2661677002711552], ...   \n",
       "1  [[-0.07226874514758119, -0.21267132333102778],...   \n",
       "2  [[-0.05113651627800753, -0.2674861957086695], ...   \n",
       "3  [[-0.036367646064764614, -0.23934754171103256]...   \n",
       "4  [[-0.0797204637382114, -0.27350516572426786], ...   \n",
       "\n",
       "                                            rightEye  \n",
       "0  [[0.20645009407383275, -0.25466045058369857], ...  \n",
       "1  [[0.1791002113662543, -0.1944043145408635], [0...  \n",
       "2  [[0.21379589102346563, -0.24411637606250924], ...  \n",
       "3  [[0.2199010682250715, -0.21605467749028295], [...  \n",
       "4  [[0.18218327924672018, -0.2482642153566159], [...  "
      ]
     },
     "execution_count": 3,
     "metadata": {},
     "output_type": "execute_result"
    }
   ],
   "source": [
    "x_train,y_train = create_dataframe()\n",
    "x_train.head()"
   ]
  },
  {
   "cell_type": "code",
   "execution_count": 4,
   "metadata": {},
   "outputs": [
    {
     "data": {
      "text/html": [
       "<div>\n",
       "<style scoped>\n",
       "    .dataframe tbody tr th:only-of-type {\n",
       "        vertical-align: middle;\n",
       "    }\n",
       "\n",
       "    .dataframe tbody tr th {\n",
       "        vertical-align: top;\n",
       "    }\n",
       "\n",
       "    .dataframe thead th {\n",
       "        text-align: right;\n",
       "    }\n",
       "</style>\n",
       "<table border=\"1\" class=\"dataframe\">\n",
       "  <thead>\n",
       "    <tr style=\"text-align: right;\">\n",
       "      <th></th>\n",
       "      <th>y</th>\n",
       "    </tr>\n",
       "  </thead>\n",
       "  <tbody>\n",
       "    <tr>\n",
       "      <th>0</th>\n",
       "      <td>[-0.45034377387318564, 0.14983534577387492]</td>\n",
       "    </tr>\n",
       "    <tr>\n",
       "      <th>1</th>\n",
       "      <td>[0.14935064935064934, 0.44950603732162464]</td>\n",
       "    </tr>\n",
       "    <tr>\n",
       "      <th>2</th>\n",
       "      <td>[-0.45034377387318564, -0.45060373216245886]</td>\n",
       "    </tr>\n",
       "    <tr>\n",
       "      <th>3</th>\n",
       "      <td>[-0.45034377387318564, 0.44950603732162464]</td>\n",
       "    </tr>\n",
       "    <tr>\n",
       "      <th>4</th>\n",
       "      <td>[0.44957983193277307, -0.45060373216245886]</td>\n",
       "    </tr>\n",
       "  </tbody>\n",
       "</table>\n",
       "</div>"
      ],
      "text/plain": [
       "                                              y\n",
       "0   [-0.45034377387318564, 0.14983534577387492]\n",
       "1    [0.14935064935064934, 0.44950603732162464]\n",
       "2  [-0.45034377387318564, -0.45060373216245886]\n",
       "3   [-0.45034377387318564, 0.44950603732162464]\n",
       "4   [0.44957983193277307, -0.45060373216245886]"
      ]
     },
     "execution_count": 4,
     "metadata": {},
     "output_type": "execute_result"
    }
   ],
   "source": [
    "y_train.head()"
   ]
  },
  {
   "cell_type": "code",
   "execution_count": 5,
   "metadata": {},
   "outputs": [
    {
     "data": {
      "text/html": [
       "<div>\n",
       "<style scoped>\n",
       "    .dataframe tbody tr th:only-of-type {\n",
       "        vertical-align: middle;\n",
       "    }\n",
       "\n",
       "    .dataframe tbody tr th {\n",
       "        vertical-align: top;\n",
       "    }\n",
       "\n",
       "    .dataframe thead th {\n",
       "        text-align: right;\n",
       "    }\n",
       "</style>\n",
       "<table border=\"1\" class=\"dataframe\">\n",
       "  <thead>\n",
       "    <tr style=\"text-align: right;\">\n",
       "      <th></th>\n",
       "      <th>eyeImage</th>\n",
       "      <th>leftEye</th>\n",
       "      <th>rightEye</th>\n",
       "    </tr>\n",
       "  </thead>\n",
       "  <tbody>\n",
       "    <tr>\n",
       "      <th>count</th>\n",
       "      <td>125</td>\n",
       "      <td>125</td>\n",
       "      <td>125</td>\n",
       "    </tr>\n",
       "    <tr>\n",
       "      <th>unique</th>\n",
       "      <td>125</td>\n",
       "      <td>125</td>\n",
       "      <td>125</td>\n",
       "    </tr>\n",
       "    <tr>\n",
       "      <th>top</th>\n",
       "      <td>[[[92, 122, 175], [92, 129, 190], [92, 131, 19...</td>\n",
       "      <td>[[-0.06052127160116916, -0.32971692111401407],...</td>\n",
       "      <td>[[0.19516706619808755, -0.322568457116841], [0...</td>\n",
       "    </tr>\n",
       "    <tr>\n",
       "      <th>freq</th>\n",
       "      <td>1</td>\n",
       "      <td>1</td>\n",
       "      <td>1</td>\n",
       "    </tr>\n",
       "  </tbody>\n",
       "</table>\n",
       "</div>"
      ],
      "text/plain": [
       "                                                 eyeImage  \\\n",
       "count                                                 125   \n",
       "unique                                                125   \n",
       "top     [[[92, 122, 175], [92, 129, 190], [92, 131, 19...   \n",
       "freq                                                    1   \n",
       "\n",
       "                                                  leftEye  \\\n",
       "count                                                 125   \n",
       "unique                                                125   \n",
       "top     [[-0.06052127160116916, -0.32971692111401407],...   \n",
       "freq                                                    1   \n",
       "\n",
       "                                                 rightEye  \n",
       "count                                                 125  \n",
       "unique                                                125  \n",
       "top     [[0.19516706619808755, -0.322568457116841], [0...  \n",
       "freq                                                    1  "
      ]
     },
     "execution_count": 5,
     "metadata": {},
     "output_type": "execute_result"
    }
   ],
   "source": [
    "x_train.describe()"
   ]
  },
  {
   "cell_type": "code",
   "execution_count": 6,
   "metadata": {},
   "outputs": [
    {
     "data": {
      "text/html": [
       "<div>\n",
       "<style scoped>\n",
       "    .dataframe tbody tr th:only-of-type {\n",
       "        vertical-align: middle;\n",
       "    }\n",
       "\n",
       "    .dataframe tbody tr th {\n",
       "        vertical-align: top;\n",
       "    }\n",
       "\n",
       "    .dataframe thead th {\n",
       "        text-align: right;\n",
       "    }\n",
       "</style>\n",
       "<table border=\"1\" class=\"dataframe\">\n",
       "  <thead>\n",
       "    <tr style=\"text-align: right;\">\n",
       "      <th></th>\n",
       "      <th>y</th>\n",
       "    </tr>\n",
       "  </thead>\n",
       "  <tbody>\n",
       "    <tr>\n",
       "      <th>count</th>\n",
       "      <td>125</td>\n",
       "    </tr>\n",
       "    <tr>\n",
       "      <th>unique</th>\n",
       "      <td>125</td>\n",
       "    </tr>\n",
       "    <tr>\n",
       "      <th>top</th>\n",
       "      <td>[-0.45034377387318564, 0.14983534577387492]</td>\n",
       "    </tr>\n",
       "    <tr>\n",
       "      <th>freq</th>\n",
       "      <td>1</td>\n",
       "    </tr>\n",
       "  </tbody>\n",
       "</table>\n",
       "</div>"
      ],
      "text/plain": [
       "                                                  y\n",
       "count                                           125\n",
       "unique                                          125\n",
       "top     [-0.45034377387318564, 0.14983534577387492]\n",
       "freq                                              1"
      ]
     },
     "execution_count": 6,
     "metadata": {},
     "output_type": "execute_result"
    }
   ],
   "source": [
    "y_train.describe()"
   ]
  },
  {
   "cell_type": "code",
   "execution_count": 7,
   "metadata": {},
   "outputs": [
    {
     "data": {
      "text/html": [
       "<div>\n",
       "<style scoped>\n",
       "    .dataframe tbody tr th:only-of-type {\n",
       "        vertical-align: middle;\n",
       "    }\n",
       "\n",
       "    .dataframe tbody tr th {\n",
       "        vertical-align: top;\n",
       "    }\n",
       "\n",
       "    .dataframe thead th {\n",
       "        text-align: right;\n",
       "    }\n",
       "</style>\n",
       "<table border=\"1\" class=\"dataframe\">\n",
       "  <thead>\n",
       "    <tr style=\"text-align: right;\">\n",
       "      <th></th>\n",
       "      <th>eyeImage</th>\n",
       "      <th>leftEye</th>\n",
       "    </tr>\n",
       "  </thead>\n",
       "  <tbody>\n",
       "    <tr>\n",
       "      <th>0</th>\n",
       "      <td>[[[32, 52, 86], [88, 112, 155], [89, 130, 190]...</td>\n",
       "      <td>[[-0.04106040810056333, -0.2661677002711552], ...</td>\n",
       "    </tr>\n",
       "    <tr>\n",
       "      <th>1</th>\n",
       "      <td>[[[91, 114, 156], [92, 128, 185], [98, 136, 19...</td>\n",
       "      <td>[[-0.07226874514758119, -0.21267132333102778],...</td>\n",
       "    </tr>\n",
       "    <tr>\n",
       "      <th>2</th>\n",
       "      <td>[[[53, 72, 106], [99, 136, 192], [97, 140, 202...</td>\n",
       "      <td>[[-0.05113651627800753, -0.2674861957086695], ...</td>\n",
       "    </tr>\n",
       "    <tr>\n",
       "      <th>3</th>\n",
       "      <td>[[[53, 65, 96], [105, 134, 180], [97, 142, 203...</td>\n",
       "      <td>[[-0.036367646064764614, -0.23934754171103256]...</td>\n",
       "    </tr>\n",
       "    <tr>\n",
       "      <th>4</th>\n",
       "      <td>[[[49, 64, 96], [91, 115, 157], [88, 127, 185]...</td>\n",
       "      <td>[[-0.0797204637382114, -0.27350516572426786], ...</td>\n",
       "    </tr>\n",
       "    <tr>\n",
       "      <th>...</th>\n",
       "      <td>...</td>\n",
       "      <td>...</td>\n",
       "    </tr>\n",
       "    <tr>\n",
       "      <th>120</th>\n",
       "      <td>[[[79, 117, 179], [65, 100, 157], [36, 66, 118...</td>\n",
       "      <td>[[-0.033213769663275605, -0.2290984016174057],...</td>\n",
       "    </tr>\n",
       "    <tr>\n",
       "      <th>121</th>\n",
       "      <td>[[[82, 120, 178], [67, 102, 157], [40, 71, 121...</td>\n",
       "      <td>[[-0.05008521603051719, -0.22870410061116675],...</td>\n",
       "    </tr>\n",
       "    <tr>\n",
       "      <th>122</th>\n",
       "      <td>[[[90, 131, 198], [92, 131, 197], [87, 124, 18...</td>\n",
       "      <td>[[-0.04425108086615903, -0.23295326180560938],...</td>\n",
       "    </tr>\n",
       "    <tr>\n",
       "      <th>123</th>\n",
       "      <td>[[[88, 128, 192], [86, 125, 185], [70, 106, 16...</td>\n",
       "      <td>[[-0.04412834065089355, -0.23486924302635703],...</td>\n",
       "    </tr>\n",
       "    <tr>\n",
       "      <th>124</th>\n",
       "      <td>[[[84, 124, 186], [72, 108, 168], [50, 79, 135...</td>\n",
       "      <td>[[-0.04333755292432517, -0.23619174316944547],...</td>\n",
       "    </tr>\n",
       "  </tbody>\n",
       "</table>\n",
       "<p>125 rows × 2 columns</p>\n",
       "</div>"
      ],
      "text/plain": [
       "                                              eyeImage  \\\n",
       "0    [[[32, 52, 86], [88, 112, 155], [89, 130, 190]...   \n",
       "1    [[[91, 114, 156], [92, 128, 185], [98, 136, 19...   \n",
       "2    [[[53, 72, 106], [99, 136, 192], [97, 140, 202...   \n",
       "3    [[[53, 65, 96], [105, 134, 180], [97, 142, 203...   \n",
       "4    [[[49, 64, 96], [91, 115, 157], [88, 127, 185]...   \n",
       "..                                                 ...   \n",
       "120  [[[79, 117, 179], [65, 100, 157], [36, 66, 118...   \n",
       "121  [[[82, 120, 178], [67, 102, 157], [40, 71, 121...   \n",
       "122  [[[90, 131, 198], [92, 131, 197], [87, 124, 18...   \n",
       "123  [[[88, 128, 192], [86, 125, 185], [70, 106, 16...   \n",
       "124  [[[84, 124, 186], [72, 108, 168], [50, 79, 135...   \n",
       "\n",
       "                                               leftEye  \n",
       "0    [[-0.04106040810056333, -0.2661677002711552], ...  \n",
       "1    [[-0.07226874514758119, -0.21267132333102778],...  \n",
       "2    [[-0.05113651627800753, -0.2674861957086695], ...  \n",
       "3    [[-0.036367646064764614, -0.23934754171103256]...  \n",
       "4    [[-0.0797204637382114, -0.27350516572426786], ...  \n",
       "..                                                 ...  \n",
       "120  [[-0.033213769663275605, -0.2290984016174057],...  \n",
       "121  [[-0.05008521603051719, -0.22870410061116675],...  \n",
       "122  [[-0.04425108086615903, -0.23295326180560938],...  \n",
       "123  [[-0.04412834065089355, -0.23486924302635703],...  \n",
       "124  [[-0.04333755292432517, -0.23619174316944547],...  \n",
       "\n",
       "[125 rows x 2 columns]"
      ]
     },
     "execution_count": 7,
     "metadata": {},
     "output_type": "execute_result"
    }
   ],
   "source": [
    "# access multiple columns\n",
    "x_train.iloc[:,0:2]"
   ]
  },
  {
   "cell_type": "code",
   "execution_count": 31,
   "metadata": {},
   "outputs": [
    {
     "data": {
      "text/html": [
       "<div>\n",
       "<style scoped>\n",
       "    .dataframe tbody tr th:only-of-type {\n",
       "        vertical-align: middle;\n",
       "    }\n",
       "\n",
       "    .dataframe tbody tr th {\n",
       "        vertical-align: top;\n",
       "    }\n",
       "\n",
       "    .dataframe thead th {\n",
       "        text-align: right;\n",
       "    }\n",
       "</style>\n",
       "<table border=\"1\" class=\"dataframe\">\n",
       "  <thead>\n",
       "    <tr style=\"text-align: right;\">\n",
       "      <th></th>\n",
       "      <th>y</th>\n",
       "    </tr>\n",
       "  </thead>\n",
       "  <tbody>\n",
       "    <tr>\n",
       "      <th>count</th>\n",
       "      <td>125</td>\n",
       "    </tr>\n",
       "    <tr>\n",
       "      <th>unique</th>\n",
       "      <td>2</td>\n",
       "    </tr>\n",
       "    <tr>\n",
       "      <th>top</th>\n",
       "      <td>L</td>\n",
       "    </tr>\n",
       "    <tr>\n",
       "      <th>freq</th>\n",
       "      <td>66</td>\n",
       "    </tr>\n",
       "  </tbody>\n",
       "</table>\n",
       "</div>"
      ],
      "text/plain": [
       "          y\n",
       "count   125\n",
       "unique    2\n",
       "top       L\n",
       "freq     66"
      ]
     },
     "execution_count": 31,
     "metadata": {},
     "output_type": "execute_result"
    }
   ],
   "source": [
    "binary_labels = create_binary_labels(y_train)\n",
    "binary_labels.describe()"
   ]
  },
  {
   "cell_type": "code",
   "execution_count": 30,
   "metadata": {},
   "outputs": [
    {
     "data": {
      "text/html": [
       "<div>\n",
       "<style scoped>\n",
       "    .dataframe tbody tr th:only-of-type {\n",
       "        vertical-align: middle;\n",
       "    }\n",
       "\n",
       "    .dataframe tbody tr th {\n",
       "        vertical-align: top;\n",
       "    }\n",
       "\n",
       "    .dataframe thead th {\n",
       "        text-align: right;\n",
       "    }\n",
       "</style>\n",
       "<table border=\"1\" class=\"dataframe\">\n",
       "  <thead>\n",
       "    <tr style=\"text-align: right;\">\n",
       "      <th></th>\n",
       "      <th>y</th>\n",
       "    </tr>\n",
       "  </thead>\n",
       "  <tbody>\n",
       "    <tr>\n",
       "      <th>count</th>\n",
       "      <td>125</td>\n",
       "    </tr>\n",
       "    <tr>\n",
       "      <th>unique</th>\n",
       "      <td>4</td>\n",
       "    </tr>\n",
       "    <tr>\n",
       "      <th>top</th>\n",
       "      <td>LL</td>\n",
       "    </tr>\n",
       "    <tr>\n",
       "      <th>freq</th>\n",
       "      <td>36</td>\n",
       "    </tr>\n",
       "  </tbody>\n",
       "</table>\n",
       "</div>"
      ],
      "text/plain": [
       "          y\n",
       "count   125\n",
       "unique    4\n",
       "top      LL\n",
       "freq     36"
      ]
     },
     "execution_count": 30,
     "metadata": {},
     "output_type": "execute_result"
    }
   ],
   "source": [
    "quaternary_labels = create_quaternary_labels(y_train)\n",
    "quaternary_labels.describe()"
   ]
  },
  {
   "cell_type": "code",
   "execution_count": 15,
   "metadata": {},
   "outputs": [],
   "source": [
    "# This function will plot images in the form of a grid with 1 row and 5 columns where images are placed in each column.\n",
    "def plotImages(images_arr):\n",
    "    fig, axes = plt.subplots(1, 5, figsize=(20,20))\n",
    "    axes = axes.flatten()\n",
    "    for img, ax in zip( images_arr, axes):\n",
    "        ax.imshow(img)\n",
    "    plt.tight_layout()\n",
    "    plt.show()"
   ]
  },
  {
   "cell_type": "code",
   "execution_count": 29,
   "metadata": {},
   "outputs": [
    {
     "data": {
      "image/png": "[encoded data removed]",
      "text/plain": [
       "<Figure size 1440x1440 with 5 Axes>"
      ]
     },
     "metadata": {
      "needs_background": "light"
     },
     "output_type": "display_data"
    }
   ],
   "source": [
    "plotImages(x_train[\"eyeImage\"].sample(n = 5))"
   ]
  },
  {
   "cell_type": "code",
   "execution_count": null,
   "metadata": {},
   "outputs": [],
   "source": [
    "def create_train_test():\n",
    "    "
   ]
  },
  {
   "cell_type": "code",
   "execution_count": null,
   "metadata": {},
   "outputs": [],
   "source": []
  }
 ],
 "metadata": {
  "environment": {
   "name": "tf-gpu.1-15.m48",
   "type": "gcloud",
   "uri": "gcr.io/deeplearning-platform-release/tf-gpu.1-15:m48"
  },
  "kernelspec": {
   "display_name": "Python 3",
   "language": "python",
   "name": "python3"
  },
  "language_info": {
   "codemirror_mode": {
    "name": "ipython",
    "version": 3
   },
   "file_extension": ".py",
   "mimetype": "text/x-python",
   "name": "python",
   "nbconvert_exporter": "python",
   "pygments_lexer": "ipython3",
   "version": "3.7.6"
  }
 },
 "nbformat": 4,
 "nbformat_minor": 4
}
